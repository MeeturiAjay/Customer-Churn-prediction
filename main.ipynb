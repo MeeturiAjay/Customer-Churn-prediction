{
 "cells": [
  {
   "cell_type": "code",
   "execution_count": 2,
   "metadata": {},
   "outputs": [],
   "source": [
    "import numpy as np\n",
    "import matplotlib.pyplot as plt\n",
    "import pandas as pd"
   ]
  },
  {
   "cell_type": "code",
   "execution_count": 3,
   "metadata": {},
   "outputs": [
    {
     "data": {
      "text/html": [
       "<div>\n",
       "<style scoped>\n",
       "    .dataframe tbody tr th:only-of-type {\n",
       "        vertical-align: middle;\n",
       "    }\n",
       "\n",
       "    .dataframe tbody tr th {\n",
       "        vertical-align: top;\n",
       "    }\n",
       "\n",
       "    .dataframe thead th {\n",
       "        text-align: right;\n",
       "    }\n",
       "</style>\n",
       "<table border=\"1\" class=\"dataframe\">\n",
       "  <thead>\n",
       "    <tr style=\"text-align: right;\">\n",
       "      <th></th>\n",
       "      <th>RowNumber</th>\n",
       "      <th>CustomerId</th>\n",
       "      <th>Surname</th>\n",
       "      <th>CreditScore</th>\n",
       "      <th>Geography</th>\n",
       "      <th>Gender</th>\n",
       "      <th>Age</th>\n",
       "      <th>Tenure</th>\n",
       "      <th>Balance</th>\n",
       "      <th>NumOfProducts</th>\n",
       "      <th>HasCrCard</th>\n",
       "      <th>IsActiveMember</th>\n",
       "      <th>EstimatedSalary</th>\n",
       "      <th>Exited</th>\n",
       "    </tr>\n",
       "  </thead>\n",
       "  <tbody>\n",
       "    <tr>\n",
       "      <th>0</th>\n",
       "      <td>1</td>\n",
       "      <td>15634602</td>\n",
       "      <td>Hargrave</td>\n",
       "      <td>619</td>\n",
       "      <td>France</td>\n",
       "      <td>Female</td>\n",
       "      <td>42</td>\n",
       "      <td>2</td>\n",
       "      <td>0.00</td>\n",
       "      <td>1</td>\n",
       "      <td>1</td>\n",
       "      <td>1</td>\n",
       "      <td>101348.88</td>\n",
       "      <td>1</td>\n",
       "    </tr>\n",
       "    <tr>\n",
       "      <th>1</th>\n",
       "      <td>2</td>\n",
       "      <td>15647311</td>\n",
       "      <td>Hill</td>\n",
       "      <td>608</td>\n",
       "      <td>Spain</td>\n",
       "      <td>Female</td>\n",
       "      <td>41</td>\n",
       "      <td>1</td>\n",
       "      <td>83807.86</td>\n",
       "      <td>1</td>\n",
       "      <td>0</td>\n",
       "      <td>1</td>\n",
       "      <td>112542.58</td>\n",
       "      <td>0</td>\n",
       "    </tr>\n",
       "    <tr>\n",
       "      <th>2</th>\n",
       "      <td>3</td>\n",
       "      <td>15619304</td>\n",
       "      <td>Onio</td>\n",
       "      <td>502</td>\n",
       "      <td>France</td>\n",
       "      <td>Female</td>\n",
       "      <td>42</td>\n",
       "      <td>8</td>\n",
       "      <td>159660.80</td>\n",
       "      <td>3</td>\n",
       "      <td>1</td>\n",
       "      <td>0</td>\n",
       "      <td>113931.57</td>\n",
       "      <td>1</td>\n",
       "    </tr>\n",
       "    <tr>\n",
       "      <th>3</th>\n",
       "      <td>4</td>\n",
       "      <td>15701354</td>\n",
       "      <td>Boni</td>\n",
       "      <td>699</td>\n",
       "      <td>France</td>\n",
       "      <td>Female</td>\n",
       "      <td>39</td>\n",
       "      <td>1</td>\n",
       "      <td>0.00</td>\n",
       "      <td>2</td>\n",
       "      <td>0</td>\n",
       "      <td>0</td>\n",
       "      <td>93826.63</td>\n",
       "      <td>0</td>\n",
       "    </tr>\n",
       "    <tr>\n",
       "      <th>4</th>\n",
       "      <td>5</td>\n",
       "      <td>15737888</td>\n",
       "      <td>Mitchell</td>\n",
       "      <td>850</td>\n",
       "      <td>Spain</td>\n",
       "      <td>Female</td>\n",
       "      <td>43</td>\n",
       "      <td>2</td>\n",
       "      <td>125510.82</td>\n",
       "      <td>1</td>\n",
       "      <td>1</td>\n",
       "      <td>1</td>\n",
       "      <td>79084.10</td>\n",
       "      <td>0</td>\n",
       "    </tr>\n",
       "  </tbody>\n",
       "</table>\n",
       "</div>"
      ],
      "text/plain": [
       "   RowNumber  CustomerId   Surname  CreditScore Geography  Gender  Age  \\\n",
       "0          1    15634602  Hargrave          619    France  Female   42   \n",
       "1          2    15647311      Hill          608     Spain  Female   41   \n",
       "2          3    15619304      Onio          502    France  Female   42   \n",
       "3          4    15701354      Boni          699    France  Female   39   \n",
       "4          5    15737888  Mitchell          850     Spain  Female   43   \n",
       "\n",
       "   Tenure    Balance  NumOfProducts  HasCrCard  IsActiveMember  \\\n",
       "0       2       0.00              1          1               1   \n",
       "1       1   83807.86              1          0               1   \n",
       "2       8  159660.80              3          1               0   \n",
       "3       1       0.00              2          0               0   \n",
       "4       2  125510.82              1          1               1   \n",
       "\n",
       "   EstimatedSalary  Exited  \n",
       "0        101348.88       1  \n",
       "1        112542.58       0  \n",
       "2        113931.57       1  \n",
       "3         93826.63       0  \n",
       "4         79084.10       0  "
      ]
     },
     "execution_count": 3,
     "metadata": {},
     "output_type": "execute_result"
    }
   ],
   "source": [
    "df = pd.read_csv(r\"C:\\Users\\meetu\\Downloads\\Programming\\DeepLearning_projects\\Churn_Prediction\\churnpredenv_dataset\\Churn_Modelling.csv\")\n",
    "df.head()"
   ]
  },
  {
   "cell_type": "code",
   "execution_count": 4,
   "metadata": {},
   "outputs": [
    {
     "data": {
      "text/html": [
       "<div>\n",
       "<style scoped>\n",
       "    .dataframe tbody tr th:only-of-type {\n",
       "        vertical-align: middle;\n",
       "    }\n",
       "\n",
       "    .dataframe tbody tr th {\n",
       "        vertical-align: top;\n",
       "    }\n",
       "\n",
       "    .dataframe thead th {\n",
       "        text-align: right;\n",
       "    }\n",
       "</style>\n",
       "<table border=\"1\" class=\"dataframe\">\n",
       "  <thead>\n",
       "    <tr style=\"text-align: right;\">\n",
       "      <th></th>\n",
       "      <th>CreditScore</th>\n",
       "      <th>Geography</th>\n",
       "      <th>Gender</th>\n",
       "      <th>Age</th>\n",
       "      <th>Tenure</th>\n",
       "      <th>Balance</th>\n",
       "      <th>NumOfProducts</th>\n",
       "      <th>HasCrCard</th>\n",
       "      <th>IsActiveMember</th>\n",
       "      <th>EstimatedSalary</th>\n",
       "      <th>Exited</th>\n",
       "    </tr>\n",
       "  </thead>\n",
       "  <tbody>\n",
       "    <tr>\n",
       "      <th>0</th>\n",
       "      <td>619</td>\n",
       "      <td>France</td>\n",
       "      <td>Female</td>\n",
       "      <td>42</td>\n",
       "      <td>2</td>\n",
       "      <td>0.00</td>\n",
       "      <td>1</td>\n",
       "      <td>1</td>\n",
       "      <td>1</td>\n",
       "      <td>101348.88</td>\n",
       "      <td>1</td>\n",
       "    </tr>\n",
       "    <tr>\n",
       "      <th>1</th>\n",
       "      <td>608</td>\n",
       "      <td>Spain</td>\n",
       "      <td>Female</td>\n",
       "      <td>41</td>\n",
       "      <td>1</td>\n",
       "      <td>83807.86</td>\n",
       "      <td>1</td>\n",
       "      <td>0</td>\n",
       "      <td>1</td>\n",
       "      <td>112542.58</td>\n",
       "      <td>0</td>\n",
       "    </tr>\n",
       "    <tr>\n",
       "      <th>2</th>\n",
       "      <td>502</td>\n",
       "      <td>France</td>\n",
       "      <td>Female</td>\n",
       "      <td>42</td>\n",
       "      <td>8</td>\n",
       "      <td>159660.80</td>\n",
       "      <td>3</td>\n",
       "      <td>1</td>\n",
       "      <td>0</td>\n",
       "      <td>113931.57</td>\n",
       "      <td>1</td>\n",
       "    </tr>\n",
       "    <tr>\n",
       "      <th>3</th>\n",
       "      <td>699</td>\n",
       "      <td>France</td>\n",
       "      <td>Female</td>\n",
       "      <td>39</td>\n",
       "      <td>1</td>\n",
       "      <td>0.00</td>\n",
       "      <td>2</td>\n",
       "      <td>0</td>\n",
       "      <td>0</td>\n",
       "      <td>93826.63</td>\n",
       "      <td>0</td>\n",
       "    </tr>\n",
       "    <tr>\n",
       "      <th>4</th>\n",
       "      <td>850</td>\n",
       "      <td>Spain</td>\n",
       "      <td>Female</td>\n",
       "      <td>43</td>\n",
       "      <td>2</td>\n",
       "      <td>125510.82</td>\n",
       "      <td>1</td>\n",
       "      <td>1</td>\n",
       "      <td>1</td>\n",
       "      <td>79084.10</td>\n",
       "      <td>0</td>\n",
       "    </tr>\n",
       "  </tbody>\n",
       "</table>\n",
       "</div>"
      ],
      "text/plain": [
       "   CreditScore Geography  Gender  Age  Tenure    Balance  NumOfProducts  \\\n",
       "0          619    France  Female   42       2       0.00              1   \n",
       "1          608     Spain  Female   41       1   83807.86              1   \n",
       "2          502    France  Female   42       8  159660.80              3   \n",
       "3          699    France  Female   39       1       0.00              2   \n",
       "4          850     Spain  Female   43       2  125510.82              1   \n",
       "\n",
       "   HasCrCard  IsActiveMember  EstimatedSalary  Exited  \n",
       "0          1               1        101348.88       1  \n",
       "1          0               1        112542.58       0  \n",
       "2          1               0        113931.57       1  \n",
       "3          0               0         93826.63       0  \n",
       "4          1               1         79084.10       0  "
      ]
     },
     "execution_count": 4,
     "metadata": {},
     "output_type": "execute_result"
    }
   ],
   "source": [
    "df = df.drop(columns = ['RowNumber', 'CustomerId', 'Surname'], axis = 0)\n",
    "df.head()"
   ]
  },
  {
   "cell_type": "code",
   "execution_count": 5,
   "metadata": {},
   "outputs": [
    {
     "data": {
      "text/html": [
       "<div>\n",
       "<style scoped>\n",
       "    .dataframe tbody tr th:only-of-type {\n",
       "        vertical-align: middle;\n",
       "    }\n",
       "\n",
       "    .dataframe tbody tr th {\n",
       "        vertical-align: top;\n",
       "    }\n",
       "\n",
       "    .dataframe thead th {\n",
       "        text-align: right;\n",
       "    }\n",
       "</style>\n",
       "<table border=\"1\" class=\"dataframe\">\n",
       "  <thead>\n",
       "    <tr style=\"text-align: right;\">\n",
       "      <th></th>\n",
       "      <th>CreditScore</th>\n",
       "      <th>Geography</th>\n",
       "      <th>Gender</th>\n",
       "      <th>Age</th>\n",
       "      <th>Tenure</th>\n",
       "      <th>Balance</th>\n",
       "      <th>NumOfProducts</th>\n",
       "      <th>HasCrCard</th>\n",
       "      <th>IsActiveMember</th>\n",
       "      <th>EstimatedSalary</th>\n",
       "      <th>Exited</th>\n",
       "    </tr>\n",
       "  </thead>\n",
       "  <tbody>\n",
       "    <tr>\n",
       "      <th>0</th>\n",
       "      <td>619</td>\n",
       "      <td>0</td>\n",
       "      <td>0</td>\n",
       "      <td>42</td>\n",
       "      <td>2</td>\n",
       "      <td>0.00</td>\n",
       "      <td>1</td>\n",
       "      <td>1</td>\n",
       "      <td>1</td>\n",
       "      <td>101348.88</td>\n",
       "      <td>1</td>\n",
       "    </tr>\n",
       "    <tr>\n",
       "      <th>1</th>\n",
       "      <td>608</td>\n",
       "      <td>2</td>\n",
       "      <td>0</td>\n",
       "      <td>41</td>\n",
       "      <td>1</td>\n",
       "      <td>83807.86</td>\n",
       "      <td>1</td>\n",
       "      <td>0</td>\n",
       "      <td>1</td>\n",
       "      <td>112542.58</td>\n",
       "      <td>0</td>\n",
       "    </tr>\n",
       "    <tr>\n",
       "      <th>2</th>\n",
       "      <td>502</td>\n",
       "      <td>0</td>\n",
       "      <td>0</td>\n",
       "      <td>42</td>\n",
       "      <td>8</td>\n",
       "      <td>159660.80</td>\n",
       "      <td>3</td>\n",
       "      <td>1</td>\n",
       "      <td>0</td>\n",
       "      <td>113931.57</td>\n",
       "      <td>1</td>\n",
       "    </tr>\n",
       "    <tr>\n",
       "      <th>3</th>\n",
       "      <td>699</td>\n",
       "      <td>0</td>\n",
       "      <td>0</td>\n",
       "      <td>39</td>\n",
       "      <td>1</td>\n",
       "      <td>0.00</td>\n",
       "      <td>2</td>\n",
       "      <td>0</td>\n",
       "      <td>0</td>\n",
       "      <td>93826.63</td>\n",
       "      <td>0</td>\n",
       "    </tr>\n",
       "    <tr>\n",
       "      <th>4</th>\n",
       "      <td>850</td>\n",
       "      <td>2</td>\n",
       "      <td>0</td>\n",
       "      <td>43</td>\n",
       "      <td>2</td>\n",
       "      <td>125510.82</td>\n",
       "      <td>1</td>\n",
       "      <td>1</td>\n",
       "      <td>1</td>\n",
       "      <td>79084.10</td>\n",
       "      <td>0</td>\n",
       "    </tr>\n",
       "  </tbody>\n",
       "</table>\n",
       "</div>"
      ],
      "text/plain": [
       "   CreditScore  Geography  Gender  Age  Tenure    Balance  NumOfProducts  \\\n",
       "0          619          0       0   42       2       0.00              1   \n",
       "1          608          2       0   41       1   83807.86              1   \n",
       "2          502          0       0   42       8  159660.80              3   \n",
       "3          699          0       0   39       1       0.00              2   \n",
       "4          850          2       0   43       2  125510.82              1   \n",
       "\n",
       "   HasCrCard  IsActiveMember  EstimatedSalary  Exited  \n",
       "0          1               1        101348.88       1  \n",
       "1          0               1        112542.58       0  \n",
       "2          1               0        113931.57       1  \n",
       "3          0               0         93826.63       0  \n",
       "4          1               1         79084.10       0  "
      ]
     },
     "execution_count": 5,
     "metadata": {},
     "output_type": "execute_result"
    }
   ],
   "source": [
    "from sklearn.preprocessing import LabelEncoder\n",
    "encoder = LabelEncoder()\n",
    "\n",
    "df['Geography'] = encoder.fit_transform(df['Geography'])\n",
    "df['Gender'] = encoder.fit_transform(df['Gender'])\n",
    "\n",
    "df.head()"
   ]
  },
  {
   "cell_type": "code",
   "execution_count": 6,
   "metadata": {},
   "outputs": [],
   "source": [
    "x = df.iloc[:,:-1].values\n",
    "y = df['Exited'].values"
   ]
  },
  {
   "cell_type": "code",
   "execution_count": 7,
   "metadata": {},
   "outputs": [],
   "source": [
    "from sklearn.model_selection import train_test_split\n",
    "x_train, x_test, y_train, y_test = train_test_split(x, y, test_size = 0.2)"
   ]
  },
  {
   "cell_type": "code",
   "execution_count": 8,
   "metadata": {},
   "outputs": [],
   "source": [
    "from sklearn.preprocessing import StandardScaler\n",
    "scaler = StandardScaler()\n",
    "\n",
    "x_train = scaler.fit_transform(x_train)\n",
    "x_test = scaler.fit_transform(x_test)"
   ]
  },
  {
   "cell_type": "code",
   "execution_count": 9,
   "metadata": {},
   "outputs": [],
   "source": [
    "import tensorflow\n",
    "from tensorflow.keras import Sequential\n",
    "from keras.layers import Dense"
   ]
  },
  {
   "cell_type": "code",
   "execution_count": 10,
   "metadata": {},
   "outputs": [
    {
     "name": "stderr",
     "output_type": "stream",
     "text": [
      "c:\\Users\\meetu\\Downloads\\Programming\\DeepLearning_projects\\Churn_Prediction\\churnpredenv\\lib\\site-packages\\keras\\src\\layers\\core\\dense.py:87: UserWarning: Do not pass an `input_shape`/`input_dim` argument to a layer. When using Sequential models, prefer using an `Input(shape)` object as the first layer in the model instead.\n",
      "  super().__init__(activity_regularizer=activity_regularizer, **kwargs)\n"
     ]
    }
   ],
   "source": [
    "model = Sequential()\n",
    "\n",
    "model.add(Dense(11, activation = 'relu', input_shape = x_train[0].shape))\n",
    "\n",
    "model.add(Dense(64, activation = 'relu'))\n",
    "model.add(Dense(32, activation = 'relu'))\n",
    "\n",
    "model.add(Dense(1, activation = 'sigmoid'))"
   ]
  },
  {
   "cell_type": "code",
   "execution_count": 11,
   "metadata": {},
   "outputs": [
    {
     "data": {
      "text/html": [
       "<pre style=\"white-space:pre;overflow-x:auto;line-height:normal;font-family:Menlo,'DejaVu Sans Mono',consolas,'Courier New',monospace\"><span style=\"font-weight: bold\">Model: \"sequential\"</span>\n",
       "</pre>\n"
      ],
      "text/plain": [
       "\u001b[1mModel: \"sequential\"\u001b[0m\n"
      ]
     },
     "metadata": {},
     "output_type": "display_data"
    },
    {
     "data": {
      "text/html": [
       "<pre style=\"white-space:pre;overflow-x:auto;line-height:normal;font-family:Menlo,'DejaVu Sans Mono',consolas,'Courier New',monospace\">┏━━━━━━━━━━━━━━━━━━━━━━━━━━━━━━━━━┳━━━━━━━━━━━━━━━━━━━━━━━━┳━━━━━━━━━━━━━━━┓\n",
       "┃<span style=\"font-weight: bold\"> Layer (type)                    </span>┃<span style=\"font-weight: bold\"> Output Shape           </span>┃<span style=\"font-weight: bold\">       Param # </span>┃\n",
       "┡━━━━━━━━━━━━━━━━━━━━━━━━━━━━━━━━━╇━━━━━━━━━━━━━━━━━━━━━━━━╇━━━━━━━━━━━━━━━┩\n",
       "│ dense (<span style=\"color: #0087ff; text-decoration-color: #0087ff\">Dense</span>)                   │ (<span style=\"color: #00d7ff; text-decoration-color: #00d7ff\">None</span>, <span style=\"color: #00af00; text-decoration-color: #00af00\">11</span>)             │           <span style=\"color: #00af00; text-decoration-color: #00af00\">121</span> │\n",
       "├─────────────────────────────────┼────────────────────────┼───────────────┤\n",
       "│ dense_1 (<span style=\"color: #0087ff; text-decoration-color: #0087ff\">Dense</span>)                 │ (<span style=\"color: #00d7ff; text-decoration-color: #00d7ff\">None</span>, <span style=\"color: #00af00; text-decoration-color: #00af00\">64</span>)             │           <span style=\"color: #00af00; text-decoration-color: #00af00\">768</span> │\n",
       "├─────────────────────────────────┼────────────────────────┼───────────────┤\n",
       "│ dense_2 (<span style=\"color: #0087ff; text-decoration-color: #0087ff\">Dense</span>)                 │ (<span style=\"color: #00d7ff; text-decoration-color: #00d7ff\">None</span>, <span style=\"color: #00af00; text-decoration-color: #00af00\">32</span>)             │         <span style=\"color: #00af00; text-decoration-color: #00af00\">2,080</span> │\n",
       "├─────────────────────────────────┼────────────────────────┼───────────────┤\n",
       "│ dense_3 (<span style=\"color: #0087ff; text-decoration-color: #0087ff\">Dense</span>)                 │ (<span style=\"color: #00d7ff; text-decoration-color: #00d7ff\">None</span>, <span style=\"color: #00af00; text-decoration-color: #00af00\">1</span>)              │            <span style=\"color: #00af00; text-decoration-color: #00af00\">33</span> │\n",
       "└─────────────────────────────────┴────────────────────────┴───────────────┘\n",
       "</pre>\n"
      ],
      "text/plain": [
       "┏━━━━━━━━━━━━━━━━━━━━━━━━━━━━━━━━━┳━━━━━━━━━━━━━━━━━━━━━━━━┳━━━━━━━━━━━━━━━┓\n",
       "┃\u001b[1m \u001b[0m\u001b[1mLayer (type)                   \u001b[0m\u001b[1m \u001b[0m┃\u001b[1m \u001b[0m\u001b[1mOutput Shape          \u001b[0m\u001b[1m \u001b[0m┃\u001b[1m \u001b[0m\u001b[1m      Param #\u001b[0m\u001b[1m \u001b[0m┃\n",
       "┡━━━━━━━━━━━━━━━━━━━━━━━━━━━━━━━━━╇━━━━━━━━━━━━━━━━━━━━━━━━╇━━━━━━━━━━━━━━━┩\n",
       "│ dense (\u001b[38;5;33mDense\u001b[0m)                   │ (\u001b[38;5;45mNone\u001b[0m, \u001b[38;5;34m11\u001b[0m)             │           \u001b[38;5;34m121\u001b[0m │\n",
       "├─────────────────────────────────┼────────────────────────┼───────────────┤\n",
       "│ dense_1 (\u001b[38;5;33mDense\u001b[0m)                 │ (\u001b[38;5;45mNone\u001b[0m, \u001b[38;5;34m64\u001b[0m)             │           \u001b[38;5;34m768\u001b[0m │\n",
       "├─────────────────────────────────┼────────────────────────┼───────────────┤\n",
       "│ dense_2 (\u001b[38;5;33mDense\u001b[0m)                 │ (\u001b[38;5;45mNone\u001b[0m, \u001b[38;5;34m32\u001b[0m)             │         \u001b[38;5;34m2,080\u001b[0m │\n",
       "├─────────────────────────────────┼────────────────────────┼───────────────┤\n",
       "│ dense_3 (\u001b[38;5;33mDense\u001b[0m)                 │ (\u001b[38;5;45mNone\u001b[0m, \u001b[38;5;34m1\u001b[0m)              │            \u001b[38;5;34m33\u001b[0m │\n",
       "└─────────────────────────────────┴────────────────────────┴───────────────┘\n"
      ]
     },
     "metadata": {},
     "output_type": "display_data"
    },
    {
     "data": {
      "text/html": [
       "<pre style=\"white-space:pre;overflow-x:auto;line-height:normal;font-family:Menlo,'DejaVu Sans Mono',consolas,'Courier New',monospace\"><span style=\"font-weight: bold\"> Total params: </span><span style=\"color: #00af00; text-decoration-color: #00af00\">3,002</span> (11.73 KB)\n",
       "</pre>\n"
      ],
      "text/plain": [
       "\u001b[1m Total params: \u001b[0m\u001b[38;5;34m3,002\u001b[0m (11.73 KB)\n"
      ]
     },
     "metadata": {},
     "output_type": "display_data"
    },
    {
     "data": {
      "text/html": [
       "<pre style=\"white-space:pre;overflow-x:auto;line-height:normal;font-family:Menlo,'DejaVu Sans Mono',consolas,'Courier New',monospace\"><span style=\"font-weight: bold\"> Trainable params: </span><span style=\"color: #00af00; text-decoration-color: #00af00\">3,002</span> (11.73 KB)\n",
       "</pre>\n"
      ],
      "text/plain": [
       "\u001b[1m Trainable params: \u001b[0m\u001b[38;5;34m3,002\u001b[0m (11.73 KB)\n"
      ]
     },
     "metadata": {},
     "output_type": "display_data"
    },
    {
     "data": {
      "text/html": [
       "<pre style=\"white-space:pre;overflow-x:auto;line-height:normal;font-family:Menlo,'DejaVu Sans Mono',consolas,'Courier New',monospace\"><span style=\"font-weight: bold\"> Non-trainable params: </span><span style=\"color: #00af00; text-decoration-color: #00af00\">0</span> (0.00 B)\n",
       "</pre>\n"
      ],
      "text/plain": [
       "\u001b[1m Non-trainable params: \u001b[0m\u001b[38;5;34m0\u001b[0m (0.00 B)\n"
      ]
     },
     "metadata": {},
     "output_type": "display_data"
    }
   ],
   "source": [
    "model.summary()"
   ]
  },
  {
   "cell_type": "code",
   "execution_count": 12,
   "metadata": {},
   "outputs": [
    {
     "name": "stdout",
     "output_type": "stream",
     "text": [
      "Epoch 1/25\n",
      "\u001b[1m200/200\u001b[0m \u001b[32m━━━━━━━━━━━━━━━━━━━━\u001b[0m\u001b[37m\u001b[0m \u001b[1m3s\u001b[0m 4ms/step - accuracy: 0.7830 - loss: 0.5421 - val_accuracy: 0.8044 - val_loss: 0.4495\n",
      "Epoch 2/25\n",
      "\u001b[1m200/200\u001b[0m \u001b[32m━━━━━━━━━━━━━━━━━━━━\u001b[0m\u001b[37m\u001b[0m \u001b[1m1s\u001b[0m 3ms/step - accuracy: 0.8199 - loss: 0.4290 - val_accuracy: 0.8306 - val_loss: 0.4116\n",
      "Epoch 3/25\n",
      "\u001b[1m200/200\u001b[0m \u001b[32m━━━━━━━━━━━━━━━━━━━━\u001b[0m\u001b[37m\u001b[0m \u001b[1m1s\u001b[0m 3ms/step - accuracy: 0.8493 - loss: 0.3769 - val_accuracy: 0.8400 - val_loss: 0.4047\n",
      "Epoch 4/25\n",
      "\u001b[1m200/200\u001b[0m \u001b[32m━━━━━━━━━━━━━━━━━━━━\u001b[0m\u001b[37m\u001b[0m \u001b[1m1s\u001b[0m 3ms/step - accuracy: 0.8447 - loss: 0.3698 - val_accuracy: 0.8388 - val_loss: 0.3984\n",
      "Epoch 5/25\n",
      "\u001b[1m200/200\u001b[0m \u001b[32m━━━━━━━━━━━━━━━━━━━━\u001b[0m\u001b[37m\u001b[0m \u001b[1m1s\u001b[0m 3ms/step - accuracy: 0.8520 - loss: 0.3580 - val_accuracy: 0.8419 - val_loss: 0.4002\n",
      "Epoch 6/25\n",
      "\u001b[1m200/200\u001b[0m \u001b[32m━━━━━━━━━━━━━━━━━━━━\u001b[0m\u001b[37m\u001b[0m \u001b[1m1s\u001b[0m 3ms/step - accuracy: 0.8569 - loss: 0.3549 - val_accuracy: 0.8425 - val_loss: 0.3890\n",
      "Epoch 7/25\n",
      "\u001b[1m200/200\u001b[0m \u001b[32m━━━━━━━━━━━━━━━━━━━━\u001b[0m\u001b[37m\u001b[0m \u001b[1m1s\u001b[0m 3ms/step - accuracy: 0.8593 - loss: 0.3444 - val_accuracy: 0.8450 - val_loss: 0.3880\n",
      "Epoch 8/25\n",
      "\u001b[1m200/200\u001b[0m \u001b[32m━━━━━━━━━━━━━━━━━━━━\u001b[0m\u001b[37m\u001b[0m \u001b[1m1s\u001b[0m 2ms/step - accuracy: 0.8509 - loss: 0.3525 - val_accuracy: 0.8425 - val_loss: 0.3958\n",
      "Epoch 9/25\n",
      "\u001b[1m200/200\u001b[0m \u001b[32m━━━━━━━━━━━━━━━━━━━━\u001b[0m\u001b[37m\u001b[0m \u001b[1m1s\u001b[0m 3ms/step - accuracy: 0.8629 - loss: 0.3304 - val_accuracy: 0.8419 - val_loss: 0.3829\n",
      "Epoch 10/25\n",
      "\u001b[1m200/200\u001b[0m \u001b[32m━━━━━━━━━━━━━━━━━━━━\u001b[0m\u001b[37m\u001b[0m \u001b[1m1s\u001b[0m 3ms/step - accuracy: 0.8622 - loss: 0.3290 - val_accuracy: 0.8431 - val_loss: 0.3839\n",
      "Epoch 11/25\n",
      "\u001b[1m200/200\u001b[0m \u001b[32m━━━━━━━━━━━━━━━━━━━━\u001b[0m\u001b[37m\u001b[0m \u001b[1m1s\u001b[0m 3ms/step - accuracy: 0.8594 - loss: 0.3372 - val_accuracy: 0.8381 - val_loss: 0.3892\n",
      "Epoch 12/25\n",
      "\u001b[1m200/200\u001b[0m \u001b[32m━━━━━━━━━━━━━━━━━━━━\u001b[0m\u001b[37m\u001b[0m \u001b[1m1s\u001b[0m 3ms/step - accuracy: 0.8525 - loss: 0.3423 - val_accuracy: 0.8419 - val_loss: 0.3805\n",
      "Epoch 13/25\n",
      "\u001b[1m200/200\u001b[0m \u001b[32m━━━━━━━━━━━━━━━━━━━━\u001b[0m\u001b[37m\u001b[0m \u001b[1m1s\u001b[0m 3ms/step - accuracy: 0.8608 - loss: 0.3280 - val_accuracy: 0.8425 - val_loss: 0.3798\n",
      "Epoch 14/25\n",
      "\u001b[1m200/200\u001b[0m \u001b[32m━━━━━━━━━━━━━━━━━━━━\u001b[0m\u001b[37m\u001b[0m \u001b[1m1s\u001b[0m 3ms/step - accuracy: 0.8572 - loss: 0.3346 - val_accuracy: 0.8419 - val_loss: 0.3795\n",
      "Epoch 15/25\n",
      "\u001b[1m200/200\u001b[0m \u001b[32m━━━━━━━━━━━━━━━━━━━━\u001b[0m\u001b[37m\u001b[0m \u001b[1m1s\u001b[0m 3ms/step - accuracy: 0.8577 - loss: 0.3392 - val_accuracy: 0.8394 - val_loss: 0.3883\n",
      "Epoch 16/25\n",
      "\u001b[1m200/200\u001b[0m \u001b[32m━━━━━━━━━━━━━━━━━━━━\u001b[0m\u001b[37m\u001b[0m \u001b[1m1s\u001b[0m 3ms/step - accuracy: 0.8634 - loss: 0.3324 - val_accuracy: 0.8419 - val_loss: 0.3774\n",
      "Epoch 17/25\n",
      "\u001b[1m200/200\u001b[0m \u001b[32m━━━━━━━━━━━━━━━━━━━━\u001b[0m\u001b[37m\u001b[0m \u001b[1m1s\u001b[0m 2ms/step - accuracy: 0.8607 - loss: 0.3327 - val_accuracy: 0.8438 - val_loss: 0.3847\n",
      "Epoch 18/25\n",
      "\u001b[1m200/200\u001b[0m \u001b[32m━━━━━━━━━━━━━━━━━━━━\u001b[0m\u001b[37m\u001b[0m \u001b[1m1s\u001b[0m 2ms/step - accuracy: 0.8594 - loss: 0.3377 - val_accuracy: 0.8431 - val_loss: 0.3824\n",
      "Epoch 19/25\n",
      "\u001b[1m200/200\u001b[0m \u001b[32m━━━━━━━━━━━━━━━━━━━━\u001b[0m\u001b[37m\u001b[0m \u001b[1m1s\u001b[0m 2ms/step - accuracy: 0.8651 - loss: 0.3178 - val_accuracy: 0.8444 - val_loss: 0.3846\n",
      "Epoch 20/25\n",
      "\u001b[1m200/200\u001b[0m \u001b[32m━━━━━━━━━━━━━━━━━━━━\u001b[0m\u001b[37m\u001b[0m \u001b[1m1s\u001b[0m 3ms/step - accuracy: 0.8655 - loss: 0.3311 - val_accuracy: 0.8406 - val_loss: 0.3822\n",
      "Epoch 21/25\n",
      "\u001b[1m200/200\u001b[0m \u001b[32m━━━━━━━━━━━━━━━━━━━━\u001b[0m\u001b[37m\u001b[0m \u001b[1m1s\u001b[0m 2ms/step - accuracy: 0.8605 - loss: 0.3299 - val_accuracy: 0.8456 - val_loss: 0.3855\n",
      "Epoch 22/25\n",
      "\u001b[1m200/200\u001b[0m \u001b[32m━━━━━━━━━━━━━━━━━━━━\u001b[0m\u001b[37m\u001b[0m \u001b[1m1s\u001b[0m 2ms/step - accuracy: 0.8708 - loss: 0.3118 - val_accuracy: 0.8444 - val_loss: 0.3875\n",
      "Epoch 23/25\n",
      "\u001b[1m200/200\u001b[0m \u001b[32m━━━━━━━━━━━━━━━━━━━━\u001b[0m\u001b[37m\u001b[0m \u001b[1m1s\u001b[0m 2ms/step - accuracy: 0.8701 - loss: 0.3164 - val_accuracy: 0.8450 - val_loss: 0.3832\n",
      "Epoch 24/25\n",
      "\u001b[1m200/200\u001b[0m \u001b[32m━━━━━━━━━━━━━━━━━━━━\u001b[0m\u001b[37m\u001b[0m \u001b[1m0s\u001b[0m 2ms/step - accuracy: 0.8686 - loss: 0.3175 - val_accuracy: 0.8456 - val_loss: 0.3807\n",
      "Epoch 25/25\n",
      "\u001b[1m200/200\u001b[0m \u001b[32m━━━━━━━━━━━━━━━━━━━━\u001b[0m\u001b[37m\u001b[0m \u001b[1m0s\u001b[0m 2ms/step - accuracy: 0.8605 - loss: 0.3283 - val_accuracy: 0.8456 - val_loss: 0.3825\n"
     ]
    }
   ],
   "source": [
    "model.compile(loss = 'binary_crossentropy', optimizer = 'Adam', metrics = ['accuracy'])\n",
    "\n",
    "history = model.fit( x_train, y_train, epochs = 25, validation_split = 0.2 )"
   ]
  },
  {
   "cell_type": "code",
   "execution_count": 13,
   "metadata": {},
   "outputs": [
    {
     "data": {
      "text/plain": [
       "[array([[ 0.2295624 , -0.06848886,  0.34002626, -0.02406958,  0.15890157,\n",
       "         -0.04739454, -0.08679577, -0.01030613, -0.20841794, -0.12972614,\n",
       "         -0.00216261,  0.15538369, -0.2302595 , -0.11126747, -0.21121633,\n",
       "         -0.01593038,  0.06000274, -0.25939074,  0.2759083 , -0.08435734,\n",
       "         -0.008391  , -0.00943919,  0.22277738, -0.16361585, -0.04963256,\n",
       "          0.11080734,  0.114802  , -0.29332048, -0.40232354,  0.09670962,\n",
       "         -0.29885677, -0.30818388, -0.0685756 , -0.40701035,  0.32119933,\n",
       "          0.06497562,  0.01489804, -0.4017386 , -0.3598578 , -0.34689882,\n",
       "         -0.2021658 , -0.20274965,  0.13356927,  0.18659955, -0.24420403,\n",
       "         -0.00100177, -0.4098261 , -0.30336174,  0.2951223 , -0.437396  ,\n",
       "          0.08745512, -0.09192615,  0.0633386 ,  0.1734555 , -0.15553723,\n",
       "          0.18646976, -0.2609834 , -0.13844705, -0.23664688, -0.27044454,\n",
       "         -0.06453817, -0.5511096 , -0.22160694,  0.26033095],\n",
       "        [ 0.38437364,  0.24165896,  0.13243279,  0.16341397, -0.2261218 ,\n",
       "          0.2358626 ,  0.01042246, -0.31221753,  0.37954122, -0.1789895 ,\n",
       "         -0.11773442,  0.20734993,  0.02474921,  0.1852235 ,  0.2857199 ,\n",
       "          0.23630688, -0.14734352, -0.05209524, -0.21878557,  0.25040224,\n",
       "         -0.68852776, -0.05380976, -0.15678309,  0.00193983, -0.0789549 ,\n",
       "         -0.11496942,  0.0376308 , -0.09028034,  0.08483499,  0.10883402,\n",
       "          0.29989234,  0.26778364,  0.00769501,  0.11988144,  0.13539882,\n",
       "          0.04012912, -0.07156847, -0.49718207, -0.10241419,  0.06313719,\n",
       "         -0.10118334,  0.01695346,  0.13338578, -0.1740294 ,  0.00512086,\n",
       "          0.00963833,  0.2402772 , -0.07446534,  0.36898142,  0.20432617,\n",
       "          0.17117682,  0.0579199 ,  0.1334046 ,  0.2230108 , -0.00732468,\n",
       "          0.08750674,  0.3018733 ,  0.03433667,  0.16117299, -0.10201835,\n",
       "         -0.12604406,  0.22609176,  0.12161598, -0.6304792 ],\n",
       "        [-0.11410192,  0.1908843 ,  0.28185776, -0.0077673 , -0.03097886,\n",
       "         -0.2804003 ,  0.27548614, -0.04913941,  0.10236707, -0.23285444,\n",
       "         -0.27323973,  0.10309529, -0.30843824, -0.06886834, -0.16239762,\n",
       "         -0.31126907,  0.3326889 ,  0.21532317, -0.24098718,  0.12104105,\n",
       "         -0.21819387, -0.40812638, -0.12089028, -0.15852176, -0.1862607 ,\n",
       "          0.08975333,  0.3057335 , -0.02103559,  0.17850842, -0.3972849 ,\n",
       "         -0.03988683,  0.03441883,  0.01142204, -0.00378922, -0.19688237,\n",
       "          0.3188431 , -0.36985204, -0.2560782 ,  0.2075287 ,  0.15954775,\n",
       "          0.19068596,  0.08571456,  0.12839325,  0.31416824, -0.03167918,\n",
       "          0.15330586,  0.1439717 ,  0.31555223, -0.3152333 , -0.00298508,\n",
       "          0.21460578,  0.22026066,  0.16975382, -0.2075941 , -0.22187312,\n",
       "         -0.02330225,  0.17622533, -0.42005655, -0.07871712,  0.14187478,\n",
       "          0.06563398, -0.21536352, -0.16050662,  0.02617384],\n",
       "        [-0.04629827,  0.09719066,  0.00674255,  0.12387966,  0.19275075,\n",
       "          0.21554108,  0.24479625, -0.07685502, -0.22269166, -0.17060807,\n",
       "          0.14842016,  0.25445437, -0.32314143, -0.3934268 , -0.4437466 ,\n",
       "         -0.26624763, -0.07051861,  0.0872596 , -0.00969031, -0.15092762,\n",
       "          0.07395445, -0.24564077,  0.14016452,  0.1532854 , -0.07764091,\n",
       "          0.13677096,  0.05609553, -0.3362427 , -0.4559896 ,  0.21441256,\n",
       "          0.10375279, -0.26504225, -0.03201834,  0.15460685,  0.07841555,\n",
       "          0.06764557,  0.03786587,  0.01639482,  0.04248508,  0.13648984,\n",
       "          0.2305656 ,  0.33117476,  0.03993405,  0.02464123,  0.06092466,\n",
       "         -0.07800719, -0.23200804, -0.02697083,  0.1446764 , -0.17933929,\n",
       "          0.09561595,  0.1246027 ,  0.15975912, -0.12457685,  0.06095039,\n",
       "          0.15140899,  0.32896686,  0.1410339 ,  0.0718837 , -0.08166331,\n",
       "          0.06745008, -0.31202805,  0.0298389 , -0.05339098],\n",
       "        [-0.01551897,  0.00945119, -0.1410276 , -0.15046626, -0.3930061 ,\n",
       "         -0.21831243,  0.20551358,  0.3580289 , -0.03751297, -0.06808945,\n",
       "          0.27288225,  0.09442781, -0.25752655,  0.21392132,  0.1788168 ,\n",
       "         -0.04296872,  0.23350933, -0.23377405,  0.14094189,  0.06692499,\n",
       "          0.28362313,  0.30100384,  0.15078942,  0.13690265, -0.10974301,\n",
       "          0.0565264 ,  0.09012782,  0.26683038,  0.04546895, -0.02331759,\n",
       "         -0.17868502, -0.07384541,  0.04876314, -0.35913455, -0.31857407,\n",
       "         -0.20730433,  0.02549645,  0.0054872 ,  0.23208642, -0.10847815,\n",
       "         -0.02046832,  0.08122623,  0.07939004,  0.21552601,  0.07147178,\n",
       "          0.0046914 ,  0.05630927, -0.09296614,  0.19366693,  0.11941561,\n",
       "          0.19835751, -0.13528134,  0.16478677, -0.2087054 ,  0.30303532,\n",
       "         -0.39031258, -0.14257199,  0.23394527, -0.01750059, -0.06944393,\n",
       "          0.12791531,  0.02969575,  0.31064844, -0.05704824],\n",
       "        [ 0.13336955, -0.5876918 ,  0.00743717, -0.2745479 ,  0.3423226 ,\n",
       "         -0.21256945, -0.26343158, -0.3759864 ,  0.2929941 , -0.11925264,\n",
       "          0.31317207,  0.4010039 ,  0.4451159 ,  0.46802813,  0.251     ,\n",
       "         -0.09127179, -0.48349604,  0.13279377,  0.11880735,  0.1715289 ,\n",
       "         -0.08773493, -0.364933  ,  0.18359348, -0.12677735, -0.12768762,\n",
       "          0.2241831 , -0.31460553, -0.23075996,  0.16949898, -0.43796137,\n",
       "         -0.06353367,  0.22105356, -0.2113392 ,  0.01788853, -0.5234464 ,\n",
       "          0.16284393, -0.37136957, -0.45421594, -0.11161617,  0.00394018,\n",
       "          0.00156346, -0.14122371,  0.09663316,  0.24391657, -0.03593577,\n",
       "         -0.24040656,  0.21165563, -0.11006277, -0.16222447,  0.07267904,\n",
       "          0.11382517,  0.03479248, -0.31498685,  0.19277123,  0.02331443,\n",
       "         -0.2382493 ,  0.25708723, -0.08281111,  0.38280752,  0.13154967,\n",
       "          0.21937676,  0.38123977, -0.08354028, -0.679309  ],\n",
       "        [-0.22370514, -0.4759944 , -0.27611256, -0.23485811, -0.17200494,\n",
       "          0.05128598, -0.1434475 , -0.04700134, -0.1906923 , -0.11480977,\n",
       "         -0.04718119, -0.06632641, -0.02948879, -0.2714218 , -0.03750816,\n",
       "         -0.05717476, -0.10438164, -0.27212444, -0.38790613, -0.12823947,\n",
       "         -0.22996303,  0.15234378,  0.2030162 ,  0.04788472,  0.06811948,\n",
       "          0.13868804,  0.3160418 ,  0.00998748,  0.2706157 , -0.00824089,\n",
       "          0.17863847,  0.01891585,  0.1723289 ,  0.30783138,  0.13484702,\n",
       "         -0.20857377,  0.11643337,  0.27155417, -0.26533774,  0.04628887,\n",
       "          0.02218238, -0.1153317 ,  0.16120335,  0.00276894, -0.1707789 ,\n",
       "         -0.19407724,  0.09031145, -0.07983682, -0.41042283, -0.02882245,\n",
       "         -0.00927895,  0.00881605,  0.2404252 ,  0.07893234, -0.04999456,\n",
       "         -0.02279356, -0.25585264, -0.0113942 ,  0.0450204 , -0.11229422,\n",
       "          0.19013262,  0.03270021,  0.10382867,  0.07683367],\n",
       "        [-0.10499879, -0.68252623,  0.12052091, -0.38410535, -0.10174569,\n",
       "          0.14258859,  0.19594043, -0.24397111, -0.12223616,  0.24602713,\n",
       "          0.17211422, -0.19211712,  0.14461206,  0.03369998, -0.08963867,\n",
       "          0.07944338,  0.1582809 , -0.14893119,  0.28900585, -0.1097641 ,\n",
       "          0.35065886,  0.03836286, -0.1535145 ,  0.16616027,  0.21798201,\n",
       "          0.13296075,  0.20647198,  0.18959169, -0.04030905, -0.07488032,\n",
       "          0.11845243, -0.0156045 ,  0.12384725, -0.2540893 , -0.09809314,\n",
       "          0.22903532, -0.03440435, -0.0978994 , -0.04580838, -0.01080259,\n",
       "          0.20266783,  0.19463825, -0.48707452,  0.21280631,  0.10302024,\n",
       "          0.35338452, -0.00160929,  0.22495605, -0.21877971, -0.02859074,\n",
       "          0.05596304,  0.00996145, -0.41908067,  0.09319983, -0.64001185,\n",
       "          0.19938457, -0.23287521, -0.00429632, -0.13960916, -0.2616592 ,\n",
       "         -0.06250352, -0.09678685,  0.10730603, -0.07094184],\n",
       "        [-0.07909873, -0.08634198, -0.20994985, -0.28261328,  0.05831451,\n",
       "          0.02191509,  0.20363635,  0.22397302, -0.15559386, -0.17666692,\n",
       "          0.2684344 ,  0.21294333,  0.15383305,  0.18752043, -0.20639482,\n",
       "          0.08839487, -0.12198275,  0.04539918, -0.03474936,  0.15666953,\n",
       "         -0.2518659 ,  0.00703541, -0.14623913,  0.13576421,  0.03719777,\n",
       "          0.03346518,  0.00399299, -0.26004192, -0.03134921,  0.04587088,\n",
       "          0.19002208, -0.1819231 ,  0.31656706, -0.02614879,  0.12789962,\n",
       "         -0.08254039, -0.30106038,  0.24626485,  0.02702686, -0.05560181,\n",
       "          0.10610541, -0.26303217, -0.0496858 , -0.14825511,  0.29876986,\n",
       "          0.04246306, -0.12277882,  0.12287021, -0.05144455, -0.08136589,\n",
       "         -0.04081144,  0.18078342, -0.17263286, -0.25130144,  0.1473818 ,\n",
       "          0.15099843, -0.13732675, -0.26885802, -0.19581814,  0.3195417 ,\n",
       "          0.07292841, -0.09395791,  0.15953694,  0.03634246],\n",
       "        [-0.23947841, -0.23596492,  0.3116767 , -0.11425106,  0.07418605,\n",
       "         -0.10379492, -0.17374991,  0.19539686,  0.32466325,  0.10353569,\n",
       "          0.09773409,  0.11752103,  0.23326576,  0.08454847, -0.17437726,\n",
       "          0.09726297,  0.08286526,  0.11189117, -0.23398776, -0.25643465,\n",
       "         -0.07873307, -0.17780252, -0.24800964,  0.12952222, -0.20938642,\n",
       "          0.24026947,  0.26047504,  0.05910613, -0.13517676,  0.11225931,\n",
       "         -0.2396755 , -0.01025058,  0.00595876,  0.12782723, -0.34663698,\n",
       "          0.05883538,  0.17701556, -0.2867873 ,  0.21920058,  0.225303  ,\n",
       "          0.24082637, -0.1047954 , -0.04105151, -0.00368382,  0.00761992,\n",
       "         -0.09192843, -0.00781369,  0.081696  , -0.06654231,  0.06364933,\n",
       "         -0.13024226, -0.21099736, -0.22250068,  0.07738522,  0.08074591,\n",
       "         -0.2921493 , -0.06517576, -0.01589221,  0.06091433, -0.11736727,\n",
       "          0.01713627, -0.13355426, -0.12304568, -0.94911253],\n",
       "        [ 0.19593194,  0.05041627, -0.16796228,  0.01285386,  0.03731064,\n",
       "          0.1784334 , -0.22739404,  0.10702618, -0.10563187,  0.26337206,\n",
       "         -0.20991251,  0.07655864, -0.1454877 , -0.16512342, -0.36815134,\n",
       "          0.06336583, -0.30610293,  0.03191494, -0.03774975,  0.32547888,\n",
       "          0.00630975, -0.04270541, -0.32828873, -0.08328617, -0.12935707,\n",
       "         -0.23527199,  0.32392052,  0.22502407, -0.3690554 , -0.2062348 ,\n",
       "         -0.15952641,  0.04817518,  0.1239058 , -0.03217388,  0.06822937,\n",
       "         -0.18985751,  0.22330022,  0.2807013 ,  0.07794045,  0.0140949 ,\n",
       "         -0.20493454, -0.1869087 ,  0.04156904,  0.00709487, -0.12819922,\n",
       "          0.18939614, -0.4097751 ,  0.035482  ,  0.06109595, -0.01188282,\n",
       "          0.33279756,  0.1760918 , -0.25793913, -0.33755937,  0.12791087,\n",
       "          0.32042965,  0.0026598 , -0.04148663, -0.1580248 ,  0.32946658,\n",
       "         -0.18505673, -0.04316774, -0.0460362 , -0.27148226]],\n",
       "       dtype=float32),\n",
       " array([-0.03376306, -0.02818987, -0.08867718, -0.02625733, -0.0244367 ,\n",
       "        -0.13392258,  0.12368808,  0.1288882 ,  0.11612214,  0.12403612,\n",
       "        -0.12796812, -0.16282937,  0.19512004,  0.06348475, -0.01446693,\n",
       "         0.18666378,  0.1081626 ,  0.16341281, -0.03248017, -0.02069607,\n",
       "        -0.10405883,  0.18644622,  0.05738292,  0.17703344,  0.14928795,\n",
       "        -0.19822574,  0.01610586,  0.19995303,  0.09241474,  0.00997991,\n",
       "         0.2026508 , -0.11985203,  0.21953437,  0.1274369 , -0.01648115,\n",
       "        -0.01045218,  0.02016713,  0.05474439,  0.20805277,  0.1973712 ,\n",
       "         0.16820635,  0.15936665, -0.04927641, -0.05363471,  0.1062202 ,\n",
       "         0.15927719, -0.01876665,  0.00392066, -0.03729612,  0.19496778,\n",
       "        -0.06402964,  0.11582986,  0.02103616, -0.20342427, -0.03313977,\n",
       "        -0.01923799, -0.04516365,  0.12642977, -0.16044787, -0.04743931,\n",
       "         0.1448366 , -0.13070558,  0.16379438,  0.11096825], dtype=float32)]"
      ]
     },
     "execution_count": 13,
     "metadata": {},
     "output_type": "execute_result"
    }
   ],
   "source": [
    "model.layers[1].get_weights()"
   ]
  },
  {
   "cell_type": "code",
   "execution_count": 14,
   "metadata": {},
   "outputs": [
    {
     "name": "stdout",
     "output_type": "stream",
     "text": [
      "\u001b[1m63/63\u001b[0m \u001b[32m━━━━━━━━━━━━━━━━━━━━\u001b[0m\u001b[37m\u001b[0m \u001b[1m0s\u001b[0m 2ms/step\n"
     ]
    }
   ],
   "source": [
    "y_pred = model.predict(x_test)\n",
    "y_pred = np.where(y_pred>=0.5, 1, 0)"
   ]
  },
  {
   "cell_type": "code",
   "execution_count": 15,
   "metadata": {},
   "outputs": [
    {
     "data": {
      "text/plain": [
       "array([[0],\n",
       "       [0],\n",
       "       [1],\n",
       "       ...,\n",
       "       [0],\n",
       "       [0],\n",
       "       [0]])"
      ]
     },
     "execution_count": 15,
     "metadata": {},
     "output_type": "execute_result"
    }
   ],
   "source": [
    "y_pred"
   ]
  },
  {
   "cell_type": "code",
   "execution_count": 16,
   "metadata": {},
   "outputs": [
    {
     "name": "stdout",
     "output_type": "stream",
     "text": [
      "accuracy score:  0.8625\n"
     ]
    }
   ],
   "source": [
    "from sklearn.metrics import accuracy_score\n",
    "print(\"accuracy score: \", accuracy_score(y_test, y_pred))"
   ]
  },
  {
   "cell_type": "code",
   "execution_count": 17,
   "metadata": {},
   "outputs": [
    {
     "data": {
      "text/plain": [
       "[<matplotlib.lines.Line2D at 0x193c9ad96f0>]"
      ]
     },
     "execution_count": 17,
     "metadata": {},
     "output_type": "execute_result"
    },
    {
     "data": {
      "image/png": "[encoded data removed]",
      "text/plain": [
       "<Figure size 640x480 with 1 Axes>"
      ]
     },
     "metadata": {},
     "output_type": "display_data"
    }
   ],
   "source": [
    "plt.plot(history.history['accuracy'])\n",
    "plt.plot(history.history['val_accuracy'])"
   ]
  },
  {
   "cell_type": "code",
   "execution_count": 18,
   "metadata": {},
   "outputs": [
    {
     "data": {
      "text/plain": [
       "[<matplotlib.lines.Line2D at 0x193c9bc0bb0>]"
      ]
     },
     "execution_count": 18,
     "metadata": {},
     "output_type": "execute_result"
    },
    {
     "data": {
      "image/png": "[encoded data removed]",
      "text/plain": [
       "<Figure size 640x480 with 1 Axes>"
      ]
     },
     "metadata": {},
     "output_type": "display_data"
    }
   ],
   "source": [
    "plt.plot(history.history['loss'])\n",
    "plt.plot(history.history['val_loss'])"
   ]
  },
  {
   "cell_type": "code",
   "execution_count": null,
   "metadata": {},
   "outputs": [],
   "source": []
  }
 ],
 "metadata": {
  "kernelspec": {
   "display_name": "churnpredenv",
   "language": "python",
   "name": "python3"
  },
  "language_info": {
   "codemirror_mode": {
    "name": "ipython",
    "version": 3
   },
   "file_extension": ".py",
   "mimetype": "text/x-python",
   "name": "python",
   "nbconvert_exporter": "python",
   "pygments_lexer": "ipython3",
   "version": "3.10.9"
  }
 },
 "nbformat": 4,
 "nbformat_minor": 2
}
